{
 "cells": [
  {
   "cell_type": "markdown",
   "id": "afea604e",
   "metadata": {},
   "source": [
    "# 🛣️ Exploring the BDD100K Dataset with FiftyOne\n",
    "\n",
    "Welcome to this hands-on workshop on dataset exploration and semantic search using [FiftyOne](https://voxel51.com/fiftyone/), the BDD100K dataset, and CLIP embeddings.\n",
    "\n",
    "## 📦 What is BDD100K?\n",
    "\n",
    "The **Berkeley DeepDrive BDD100K** dataset is one of the largest and most diverse open driving datasets available. It contains **100,000 video clips**, annotated with rich metadata for tasks such as:\n",
    "\n",
    "- **Object Detection**\n",
    "- **Lane Detection**\n",
    "- **Instance Segmentation**\n",
    "- **Drivable Area Segmentation**\n",
    "- **Multiple Object Tracking**\n",
    "- **Image Classification**\n",
    "- **Domain Adaptation**\n",
    "\n",
    "Collected from dashcams mounted on vehicles, BDD100K covers a broad range of real-world driving scenarios, including various **weather conditions, times of day, and geographic locations**. This diversity makes it ideal for training and evaluating robust computer vision models in the context of autonomous driving and mobility research.\n",
    "\n",
    "## 🎯 Workshop Objective\n",
    "\n",
    "In this notebook, we will:\n",
    "\n",
    "- Load and explore the BDD100K dataset using FiftyOne\n",
    "- Apply filters to create views of interest (e.g., specific weather or time-of-day conditions)\n",
    "- Prepare the dataset for semantic search using CLIP embeddings\n",
    "\n",
    "By the end of this session, you will have a solid foundation in using FiftyOne to **interact with large-scale vision datasets**, enabling smarter data curation and analysis for your machine learning workflows.\n",
    "\n",
    "Let's get started! 🚗💨\n"
   ]
  },
  {
   "cell_type": "code",
   "execution_count": null,
   "id": "b6f37a69",
   "metadata": {},
   "outputs": [],
   "source": [
    "# Install necessary packages\n",
    "#!pip install fiftyone torch torchvision python-dotenv mlflow umap-learn"
   ]
  },
  {
   "cell_type": "markdown",
   "id": "15525903",
   "metadata": {},
   "source": [
    "Wait until this endpoint is ready, any action before that can create a 500 or 400 HTTP Error."
   ]
  },
  {
   "cell_type": "markdown",
   "id": "ba3f8c95",
   "metadata": {},
   "source": [
    "## 📁 Load the BDD100K Dataset and Launch FiftyOne\n",
    "We will use the `BDD100K` dataset from HuggingFace Hub."
   ]
  },
  {
   "cell_type": "code",
   "execution_count": null,
   "id": "defe3875",
   "metadata": {},
   "outputs": [
    {
     "name": "stderr",
     "output_type": "stream",
     "text": [
      "/Users/paularamos/Documents/GitHub/awesome-fiftyone/DB_Mosaic_AI_FiftyOne/fiftyone_DB_env/lib/python3.13/site-packages/tqdm/auto.py:21: TqdmWarning: IProgress not found. Please update jupyter and ipywidgets. See https://ipywidgets.readthedocs.io/en/stable/user_install.html\n",
      "  from .autonotebook import tqdm as notebook_tqdm\n"
     ]
    },
    {
     "name": "stdout",
     "output_type": "stream",
     "text": [
      "Importing samples...\n",
      " 100% |█████████████| 10000/10000 [696.1ms elapsed, 0s remaining, 14.4K samples/s]      \n",
      "Dataset 'bdd10k_imported' exists. Loading...\n"
     ]
    }
   ],
   "source": [
    "import fiftyone as fo\n",
    "import fiftyone.zoo as foz\n",
    "import fiftyone.brain as fob\n",
    "\n",
    "import fiftyone.utils.huggingface as fouh # Hugging Face integration\n",
    "\n",
    "import os\n",
    "\n",
    "# Increase both connection and read timeout values (in seconds)\n",
    "# os.environ[\"HF_HUB_DOWNLOAD_TIMEOUT\"] = \"60\"  # default is 10\n",
    "# os.environ[\"HF_HUB_ETAG_TIMEOUT\"] = \"30\"      # metadata fetch timeout\n",
    "# dataset = fouh.load_from_hub(\"dgural/bdd100k\", persistent=True, name= \"bdd10k\") #, overwrite=True)\n",
    "\n",
    "# # Define the new dataset name\n",
    "# dataset_name = \"bdd10k\"\n",
    " \n",
    "dataset_name = \"bdd10k_imported\"\n",
    "\n",
    "import fiftyone as fo\n",
    "\n",
    "# Path to the exported folder\n",
    "export_dir = \"bdd100k_FO\"\n",
    "\n",
    "# Load the dataset from the folder\n",
    "dataset = fo.Dataset.from_dir(\n",
    "    dataset_dir=export_dir,\n",
    "    dataset_type=fo.types.FiftyOneDataset,\n",
    "    name=dataset_name  # You can choose any name here\n",
    ")\n",
    "\n",
    "# # Launch the FiftyOne app (optional)\n",
    "# session = fo.launch_app(dataset)\n",
    "\n",
    "# Check if the dataset exists\n",
    "if dataset_name in fo.list_datasets():\n",
    "    print(f\"Dataset '{dataset_name}' exists. Loading...\")\n",
    "    dataset = fo.load_dataset(dataset_name)\n",
    "else:\n",
    "    print(f\"Dataset '{dataset_name}' does not exist. Creating a new one...\")\n",
    "    # Clone the dataset with a new name and make it persistent\n",
    "    dataset = dataset.clone(dataset_name, persistent=True)\n",
    "\n"
   ]
  },
  {
   "cell_type": "markdown",
   "id": "11f513b0",
   "metadata": {},
   "source": [
    "### 📋 List Datasets\n",
    "This cell prints the list of currently available FiftyOne datasets."
   ]
  },
  {
   "cell_type": "code",
   "execution_count": 2,
   "id": "19493819",
   "metadata": {},
   "outputs": [
    {
     "name": "stdout",
     "output_type": "stream",
     "text": [
      "['2025.03.25.13.07.42', '2025.03.25.13.08.53', '2025.05.09.09.54.39.616869', '2025.05.13.11.47.29.746170', '2025.05.13.12.53.44.521773', 'ADL_Fall_Videos_Eval', 'AnomalyMerged_MVTec_ViSA', 'Voxel51/mvtec-ad', 'anomaly_predictions_grouped', 'anomaly_predictions_grouped_carpet', 'arcade-dataset', 'bdd100k_100_unique', 'bdd100k_test', 'bdd10k', 'bdd10k_imported', 'biotrove-train-300k', 'biotrove-url-based', 'biotrove_balanced_full', 'biotrove_unseen_full', 'car_dd', 'coffee_FO', 'coffee_FO_SAM2_process', 'coffee_FO_geolocation', 'mvtec-ad_1', 'mvtec-ad_2', 'mvtec-ad_3', 'mvtec-ad_4', 'mvtec-ad_5', 'mvtec-ad_6', 'mvtec-ad_ad-1', 'mvtec-ad_demo', 'mvtec-ad_no_categories', 'mvtec-bottle', 'mvtec-bottle_2', 'mvtec-carpet-1', 'mvtec-screw', 'mvtecad2', 'mvtecad2_demo', 'mvtecad2_demo_2025', 'mvtecad2_demo_cvpr', 'mvtecad2_grouped', 'pjramg/my_colombian_coffe_FO', 'potato_mvtec', 'ucf101-test']\n",
      "Name:        bdd10k_imported\n",
      "Media type:  image\n",
      "Num samples: 10000\n",
      "Persistent:  False\n",
      "Tags:        []\n",
      "Sample fields:\n",
      "    id:                 fiftyone.core.fields.ObjectIdField\n",
      "    filepath:           fiftyone.core.fields.StringField\n",
      "    tags:               fiftyone.core.fields.ListField(fiftyone.core.fields.StringField)\n",
      "    metadata:           fiftyone.core.fields.EmbeddedDocumentField(fiftyone.core.metadata.ImageMetadata)\n",
      "    created_at:         fiftyone.core.fields.DateTimeField\n",
      "    last_modified_at:   fiftyone.core.fields.DateTimeField\n",
      "    detections:         fiftyone.core.fields.EmbeddedDocumentField(fiftyone.core.labels.Detections)\n",
      "    polylines:          fiftyone.core.fields.EmbeddedDocumentField(fiftyone.core.labels.Polylines)\n",
      "    weather:            fiftyone.core.fields.EmbeddedDocumentField(fiftyone.core.labels.Classification)\n",
      "    timeofday:          fiftyone.core.fields.EmbeddedDocumentField(fiftyone.core.labels.Classification)\n",
      "    scene:              fiftyone.core.fields.EmbeddedDocumentField(fiftyone.core.labels.Classification)\n",
      "    drivable:           fiftyone.core.fields.EmbeddedDocumentField(fiftyone.core.labels.Segmentation)\n",
      "    yolo8_predictions:  fiftyone.core.fields.EmbeddedDocumentField(fiftyone.core.labels.Detections)\n",
      "    yolo11_predictions: fiftyone.core.fields.EmbeddedDocumentField(fiftyone.core.labels.Detections)\n",
      "    uniqueness:         fiftyone.core.fields.FloatField\n"
     ]
    }
   ],
   "source": [
    "print(fo.list_datasets())\n",
    "print(dataset)"
   ]
  },
  {
   "cell_type": "markdown",
   "id": "301b72ac",
   "metadata": {},
   "source": [
    "### 🚀 Launch FiftyOne App\n",
    "This cell launches the FiftyOne App for interactive dataset visualization."
   ]
  },
  {
   "cell_type": "code",
   "execution_count": 4,
   "id": "162ffed0",
   "metadata": {},
   "outputs": [
    {
     "name": "stdout",
     "output_type": "stream",
     "text": [
      "Connected to FiftyOne on port 5161 at localhost.\n",
      "If you are not connecting to a remote session, you may need to start a new session and specify a port\n",
      "Session launched. Run `session.show()` to open the App in a cell output.\n"
     ]
    }
   ],
   "source": [
    "session = fo.launch_app(dataset, port=5161, auto=False)"
   ]
  },
  {
   "cell_type": "markdown",
   "id": "3dd02ec3",
   "metadata": {},
   "source": [
    "### 🖨️ Display Dataset\n",
    "This cell prints basic information about the currently loaded dataset."
   ]
  },
  {
   "cell_type": "code",
   "execution_count": 5,
   "id": "b697ec43",
   "metadata": {},
   "outputs": [
    {
     "name": "stdout",
     "output_type": "stream",
     "text": [
      "Name:        bdd10k_imported\n",
      "Media type:  image\n",
      "Num samples: 10000\n",
      "Persistent:  False\n",
      "Tags:        []\n",
      "Sample fields:\n",
      "    id:                 fiftyone.core.fields.ObjectIdField\n",
      "    filepath:           fiftyone.core.fields.StringField\n",
      "    tags:               fiftyone.core.fields.ListField(fiftyone.core.fields.StringField)\n",
      "    metadata:           fiftyone.core.fields.EmbeddedDocumentField(fiftyone.core.metadata.ImageMetadata)\n",
      "    created_at:         fiftyone.core.fields.DateTimeField\n",
      "    last_modified_at:   fiftyone.core.fields.DateTimeField\n",
      "    detections:         fiftyone.core.fields.EmbeddedDocumentField(fiftyone.core.labels.Detections)\n",
      "    polylines:          fiftyone.core.fields.EmbeddedDocumentField(fiftyone.core.labels.Polylines)\n",
      "    weather:            fiftyone.core.fields.EmbeddedDocumentField(fiftyone.core.labels.Classification)\n",
      "    timeofday:          fiftyone.core.fields.EmbeddedDocumentField(fiftyone.core.labels.Classification)\n",
      "    scene:              fiftyone.core.fields.EmbeddedDocumentField(fiftyone.core.labels.Classification)\n",
      "    drivable:           fiftyone.core.fields.EmbeddedDocumentField(fiftyone.core.labels.Segmentation)\n",
      "    yolo8_predictions:  fiftyone.core.fields.EmbeddedDocumentField(fiftyone.core.labels.Detections)\n",
      "    yolo11_predictions: fiftyone.core.fields.EmbeddedDocumentField(fiftyone.core.labels.Detections)\n",
      "    uniqueness:         fiftyone.core.fields.FloatField\n"
     ]
    }
   ],
   "source": [
    "print(dataset)"
   ]
  },
  {
   "cell_type": "markdown",
   "id": "0ae05314",
   "metadata": {},
   "source": [
    "### 🔍 Access Dataset Fields\n",
    "This cell uses `ViewField` to reference nested fields in the dataset for filtering or querying."
   ]
  },
  {
   "cell_type": "code",
   "execution_count": 6,
   "id": "0342457a",
   "metadata": {},
   "outputs": [],
   "source": [
    "from fiftyone import ViewField as F\n",
    "\n",
    "# Access the `label` inside the `timeofday` Classification object\n",
    "night_view = dataset.match(F(\"timeofday.label\") == \"night\")\n",
    "session.view = night_view"
   ]
  },
  {
   "cell_type": "markdown",
   "id": "c10f629f",
   "metadata": {},
   "source": [
    "### ☔ Filter for Rainy Weather\n",
    "This cell filters the dataset to only include samples where the weather label is 'rainy'."
   ]
  },
  {
   "cell_type": "code",
   "execution_count": 7,
   "id": "310adb87",
   "metadata": {},
   "outputs": [],
   "source": [
    "rain_view = night_view.match(F(\"weather.label\") == \"rainy\")\n",
    "session.view = rain_view"
   ]
  },
  {
   "cell_type": "markdown",
   "id": "e53d4f1f",
   "metadata": {},
   "source": [
    "### 💻 Code Execution\n",
    "This cell performs operations as part of the dataset setup or analysis."
   ]
  },
  {
   "cell_type": "code",
   "execution_count": 8,
   "id": "65c45a9e",
   "metadata": {},
   "outputs": [],
   "source": [
    "night_pedestrian_view = (\n",
    "    dataset\n",
    "    .match(F(\"timeofday.label\") == \"night\")\n",
    "    .filter_labels(\"detections\", F(\"label\") == \"pedestrian\")\n",
    ")\n",
    "session.view = night_pedestrian_view"
   ]
  }
 ],
 "metadata": {
  "kernelspec": {
   "display_name": "fiftyone_DB_env",
   "language": "python",
   "name": "python3"
  },
  "language_info": {
   "codemirror_mode": {
    "name": "ipython",
    "version": 3
   },
   "file_extension": ".py",
   "mimetype": "text/x-python",
   "name": "python",
   "nbconvert_exporter": "python",
   "pygments_lexer": "ipython3",
   "version": "3.13.2"
  }
 },
 "nbformat": 4,
 "nbformat_minor": 5
}
